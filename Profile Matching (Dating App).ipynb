{
 "cells": [
  {
   "cell_type": "markdown",
   "id": "d0120dd7",
   "metadata": {},
   "source": [
    "# PERSONAL PROJECT : PROFILE MATCHING APP"
   ]
  },
  {
   "cell_type": "markdown",
   "id": "37346eae",
   "metadata": {},
   "source": [
    "## creating a function that checks username and adds to database"
   ]
  },
  {
   "cell_type": "code",
   "execution_count": 2,
   "id": "b8dc6093",
   "metadata": {
    "scrolled": false
   },
   "outputs": [],
   "source": [
    "#creating a list variable type to store user names created with profiles.\n",
    "\n",
    "all_user = []"
   ]
  },
  {
   "cell_type": "code",
   "execution_count": 3,
   "id": "e5ae4e38",
   "metadata": {},
   "outputs": [],
   "source": [
    "#this function creates and checks if a user name is taken.\n",
    "def username_check(username):\n",
    "    #using the global function so the variabl within the function is not a local variable\n",
    "    global all_user\n",
    "    while username in all_user:\n",
    "        print(\"This user name already exists\")\n",
    "        username = input(\"what is your user name? \")\n",
    "    #using append() to add new user name to the all_uset list, acting as a database for user names.\n",
    "    all_user.append(username)\n",
    "    \n",
    "    \n",
    "    return username"
   ]
  },
  {
   "cell_type": "code",
   "execution_count": 4,
   "id": "c49f10a9",
   "metadata": {},
   "outputs": [
    {
     "data": {
      "text/plain": [
       "'dad1'"
      ]
     },
     "execution_count": 4,
     "metadata": {},
     "output_type": "execute_result"
    }
   ],
   "source": [
    "\n",
    "username_check('dad1')"
   ]
  },
  {
   "cell_type": "markdown",
   "id": "b1f19dd2",
   "metadata": {},
   "source": [
    "## create a function that allow user to create password within set parameters and hides the password after"
   ]
  },
  {
   "cell_type": "code",
   "execution_count": 5,
   "id": "97fd6134",
   "metadata": {},
   "outputs": [],
   "source": [
    "#creates a password not less than 5 characters\n",
    "def create_user_password():\n",
    "    \n",
    "    \n",
    "    password = input(\"Enter Your password, not less than 5 charcters\")\n",
    "    while  len(password) < 5:\n",
    "        password = (input(\"Enter Your password, not less than 5 charcters\"))\n",
    "    else:\n",
    "        #password_again allows users confirm their desired password. it has to match.\n",
    "        password_again = input(\"Confirm Password again \")\n",
    "        while password_again != password:\n",
    "            password_again = input(f\"{password_again} is not your Password, \\nEnter your set password\")\n",
    "    return password"
   ]
  },
  {
   "cell_type": "code",
   "execution_count": 6,
   "id": "ece2a48d",
   "metadata": {},
   "outputs": [
    {
     "data": {
      "text/plain": [
       "'abu123'"
      ]
     },
     "execution_count": 6,
     "metadata": {},
     "output_type": "execute_result"
    }
   ],
   "source": [
    "create_user_password()"
   ]
  },
  {
   "cell_type": "code",
   "execution_count": 7,
   "id": "619fba4c",
   "metadata": {},
   "outputs": [],
   "source": [
    "#links password with user name in a dictionary, creating a key pair value.\n",
    "def user_password_link(username):\n",
    "    \n",
    "    password = create_user_password()\n",
    "    if username in all_user:\n",
    "        user_password = {password : username}\n",
    "        return user_password\n",
    "    else:\n",
    "        print(\"Enter a valid User name.\")\n",
    "        user_password_link(password)"
   ]
  },
  {
   "cell_type": "code",
   "execution_count": 8,
   "id": "767ae62d",
   "metadata": {
    "scrolled": true
   },
   "outputs": [
    {
     "data": {
      "text/plain": [
       "{'abu123': 'dad1'}"
      ]
     },
     "execution_count": 8,
     "metadata": {},
     "output_type": "execute_result"
    }
   ],
   "source": [
    "user_password_link('dad1')"
   ]
  },
  {
   "cell_type": "markdown",
   "id": "344a9422",
   "metadata": {},
   "source": [
    "## Create function to create and store dating profiles"
   ]
  },
  {
   "cell_type": "code",
   "execution_count": 9,
   "id": "41e4f2c1",
   "metadata": {},
   "outputs": [],
   "source": [
    "#create a dictionary that holds user profiles.\n",
    "all_profile = {}"
   ]
  },
  {
   "cell_type": "code",
   "execution_count": 10,
   "id": "c8ca3816",
   "metadata": {},
   "outputs": [],
   "source": [
    "#code to merge codes user_profile = username_check()\n",
    "\n",
    "def create_profile(username):\n",
    "    #create a global variable in function to match the dictionary created for storing profiles.\n",
    "    global all_profile\n",
    "    \n",
    "    if username in all_user:\n",
    "        age = int(input(\"How old are you? \"))   \n",
    "        marital_status = input(\"Single, Married, Divorced, Complicated\")            \n",
    "        hobbies = input(\"What are your hobbies? \").split()\n",
    "        city = input(\"What City do you live in? \")\n",
    "\n",
    "        #create a profile using a nested dictionary, user name as main key.\n",
    "\n",
    "        profile_details = {'first_name' : input(\"Enter first name\"),\n",
    "                            'surname' : input(\"Enter surname\"),\n",
    "                            'age' : age,\n",
    "                            'city' : city,\n",
    "                            'hobbies' : hobbies,\n",
    "                            'bio' : input(\"Tell us about your self\"),\n",
    "                            \"Marital status\" : marital_status}\n",
    "\n",
    "        #update the dictionary with profiles\n",
    "        all_profile[username] = profile_details\n",
    "        return all_profile\n",
    "    else:\n",
    "        print(\"Please enter your registered user name.\")\n",
    "        create_profile()\n",
    "        \n",
    "    \n",
    "    "
   ]
  },
  {
   "cell_type": "code",
   "execution_count": 11,
   "id": "007b21f7",
   "metadata": {},
   "outputs": [
    {
     "data": {
      "text/plain": [
       "{'dad1': {'first_name': 'daddy',\n",
       "  'surname': 'sugar',\n",
       "  'age': 25,\n",
       "  'city': 'benin',\n",
       "  'hobbies': ['game', 'music', 'food', 'dance', 'movie'],\n",
       "  'bio': 'i like food',\n",
       "  'Marital status': 'single'}}"
      ]
     },
     "execution_count": 11,
     "metadata": {},
     "output_type": "execute_result"
    }
   ],
   "source": [
    "create_profile('dad1')"
   ]
  },
  {
   "cell_type": "markdown",
   "id": "60dd72b1",
   "metadata": {},
   "source": [
    "## create a function that lets you access your profile\n"
   ]
  },
  {
   "cell_type": "code",
   "execution_count": 12,
   "id": "556928ac",
   "metadata": {},
   "outputs": [],
   "source": [
    "#This creates uses a password : username key-value pair to access already created profile\n",
    "def access_profile(user_password):\n",
    "    \n",
    "    username = input(\"What is your username? \")\n",
    "    if username in all_user:\n",
    "        password = input(\"Enter Password to access your profile \")\n",
    "        #using the and boolean to ensure both conditions are true before profile acess is given.\n",
    "        if password in user_password and username in user_password[password]:\n",
    "            get_profile = all_profile[username]\n",
    "            return get_profile\n",
    "        else:\n",
    "            print(\"Invalid User Name, enter valid user name or password\")\n",
    "    else:\n",
    "        print(\"Invalid User Name, enter valid user name or password\")\n",
    "        access_profile(user_password)\n",
    "    \n",
    "    "
   ]
  },
  {
   "cell_type": "markdown",
   "id": "455d25c0",
   "metadata": {},
   "source": [
    "## create matching data function"
   ]
  },
  {
   "cell_type": "code",
   "execution_count": 15,
   "id": "a3399b84",
   "metadata": {},
   "outputs": [],
   "source": [
    "#function that let you get matching hobbies between 2 profiles\n",
    "#this function checks each hobbie in your profile and matches it in the list of the other user's profile.  \n",
    "def match_hobbies(username, username2):\n",
    "    all_match = []\n",
    "    index = 0\n",
    "    while index < len(all_profile[username]['hobbies']):\n",
    "        if all_profile[username]['hobbies'][index] in all_profile[username2]['hobbies']:\n",
    "            match = 'true'\n",
    "        else: \n",
    "            match = 'false'\n",
    "        index += 1\n",
    "        all_match.append(match)\n",
    "    return all_match"
   ]
  },
  {
   "cell_type": "code",
   "execution_count": 17,
   "id": "efb8b4ce",
   "metadata": {},
   "outputs": [],
   "source": [
    "# function that shows the percentage of the matching profiles\n",
    "def match_percentage(match_result):\n",
    "    boolean_count = []\n",
    "    boolean_count = match_result.count('true')\n",
    "    if boolean_count > 0:\n",
    "        match_percent = boolean_count / len(match_result) * 100  \n",
    "    else:\n",
    "        print('No match, Do you still want to proceed to message this person? ')\n",
    "    return f\"You are {match_percent}% match with this person. Say 'hi' to this person\""
   ]
  },
  {
   "cell_type": "code",
   "execution_count": 18,
   "id": "97e43a72",
   "metadata": {},
   "outputs": [],
   "source": [
    "def test_app():\n",
    "    print(\"Welcome to Esheku Dating App\")\n",
    "    username = input(\"Enter username to create a profile\")\n",
    "    username_check(username)\n",
    "    user_password = user_password_link(username)\n",
    "    create_profile(username)\n",
    "    inp = input(\"Do you want to access your profile? Y/N \")\n",
    "    if inp.upper() == 'Y': \n",
    "        print(access_profile(user_password))\n",
    "        pass\n",
    "    else:\n",
    "        pass\n",
    "    print(\"check if you match with another user\")\n",
    "    print(all_user)\n",
    "    username2 = input(\"enter username you want to match with\")\n",
    "    match = match_hobbies(username, username2)\n",
    "    match_level = match_percentage(match)\n",
    "    \n",
    "    return match_level\n",
    "    \n",
    "   \n",
    "\n",
    "    \n",
    "    "
   ]
  },
  {
   "cell_type": "code",
   "execution_count": 19,
   "id": "bc8c801c",
   "metadata": {},
   "outputs": [
    {
     "name": "stdout",
     "output_type": "stream",
     "text": [
      "Welcome to Esheku Dating App\n",
      "{'first_name': 'emmanuel', 'surname': 'esheku', 'age': 25, 'city': 'abuja and benin', 'hobbies': ['sing', 'music', 'food', 'games', 'movies'], 'bio': 'i like to create coding projects', 'Marital status': 'single'}\n",
      "check if you match with another user\n",
      "['dad1', 'ola1', 'shakes']\n"
     ]
    },
    {
     "data": {
      "text/plain": [
       "\"You are 40.0% match with this person. Say 'hi' to this person\""
      ]
     },
     "execution_count": 19,
     "metadata": {},
     "output_type": "execute_result"
    }
   ],
   "source": [
    "#final test for profile matching in python.\n",
    "test_app()"
   ]
  }
 ],
 "metadata": {
  "kernelspec": {
   "display_name": "Python 3 (ipykernel)",
   "language": "python",
   "name": "python3"
  },
  "language_info": {
   "codemirror_mode": {
    "name": "ipython",
    "version": 3
   },
   "file_extension": ".py",
   "mimetype": "text/x-python",
   "name": "python",
   "nbconvert_exporter": "python",
   "pygments_lexer": "ipython3",
   "version": "3.11.3"
  }
 },
 "nbformat": 4,
 "nbformat_minor": 5
}
